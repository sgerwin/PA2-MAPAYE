{
 "cells": [
  {
   "cell_type": "code",
   "execution_count": 1,
   "id": "a656572a",
   "metadata": {},
   "outputs": [],
   "source": [
    "import numpy as np"
   ]
  },
  {
   "cell_type": "code",
   "execution_count": 15,
   "id": "43adf60a",
   "metadata": {},
   "outputs": [
    {
     "data": {
      "text/plain": [
       "array([[0.55218262, 0.72355829, 0.81715767, 0.18968259, 0.98098357],\n",
       "       [0.60572432, 0.65451009, 0.31520787, 0.91451753, 0.40345266],\n",
       "       [0.79742639, 0.04110222, 0.9197152 , 0.22968979, 0.77802526],\n",
       "       [0.57199042, 0.09978085, 0.57846098, 0.63838982, 0.56888284],\n",
       "       [0.24876342, 0.93582718, 0.29770242, 0.95168728, 0.587905  ]])"
      ]
     },
     "execution_count": 15,
     "metadata": {},
     "output_type": "execute_result"
    }
   ],
   "source": [
    "#Generation of random 5x5 ndarray\n",
    "x=np.random.random((5,5))\n",
    "x"
   ]
  },
  {
   "cell_type": "code",
   "execution_count": 16,
   "id": "cc0d06f2",
   "metadata": {},
   "outputs": [
    {
     "data": {
      "text/plain": [
       "array([[-0.08643144,  0.53305734,  0.87140038, -1.39679651,  1.46359824],\n",
       "       [ 0.10711111,  0.28346191, -0.94304776,  1.22333678, -0.62406048],\n",
       "       [ 0.80007574, -1.93388484,  1.24212532, -1.25217849,  0.72994455],\n",
       "       [-0.0148302 , -1.72177333,  0.00855958,  0.22519037, -0.02606348],\n",
       "       [-1.18323114,  1.30036693, -1.00632644,  1.35769801,  0.04269781]])"
      ]
     },
     "execution_count": 16,
     "metadata": {},
     "output_type": "execute_result"
    }
   ],
   "source": [
    "#Storing mean and std deviation for formula\n",
    "mean=np.mean(x)\n",
    "std=np.std(x)\n",
    "\n",
    "#Formula for normalization\n",
    "x_normalized=(x-mean)/std\n",
    "\n",
    "#Output\n",
    "x_normalized\n"
   ]
  },
  {
   "cell_type": "code",
   "execution_count": 18,
   "id": "2ace0540",
   "metadata": {},
   "outputs": [],
   "source": [
    "#Saving of file\n",
    "np.save(\"x_normalized.npy\",x_normalized)"
   ]
  },
  {
   "cell_type": "markdown",
   "id": "73da556d",
   "metadata": {},
   "source": [
    "### Problem 2"
   ]
  },
  {
   "cell_type": "code",
   "execution_count": 28,
   "id": "9942feb9",
   "metadata": {},
   "outputs": [
    {
     "data": {
      "text/plain": [
       "array([[    1,     4,     9,    16,    25,    36,    49,    64,    81,\n",
       "          100],\n",
       "       [  121,   144,   169,   196,   225,   256,   289,   324,   361,\n",
       "          400],\n",
       "       [  441,   484,   529,   576,   625,   676,   729,   784,   841,\n",
       "          900],\n",
       "       [  961,  1024,  1089,  1156,  1225,  1296,  1369,  1444,  1521,\n",
       "         1600],\n",
       "       [ 1681,  1764,  1849,  1936,  2025,  2116,  2209,  2304,  2401,\n",
       "         2500],\n",
       "       [ 2601,  2704,  2809,  2916,  3025,  3136,  3249,  3364,  3481,\n",
       "         3600],\n",
       "       [ 3721,  3844,  3969,  4096,  4225,  4356,  4489,  4624,  4761,\n",
       "         4900],\n",
       "       [ 5041,  5184,  5329,  5476,  5625,  5776,  5929,  6084,  6241,\n",
       "         6400],\n",
       "       [ 6561,  6724,  6889,  7056,  7225,  7396,  7569,  7744,  7921,\n",
       "         8100],\n",
       "       [ 8281,  8464,  8649,  8836,  9025,  9216,  9409,  9604,  9801,\n",
       "        10000]])"
      ]
     },
     "execution_count": 28,
     "metadata": {},
     "output_type": "execute_result"
    }
   ],
   "source": [
    "#Generation of 10x10 array of squares of integers from 1 to 100\n",
    "X=np.arange(1,101)**2\n",
    "Y=X.reshape(10,10)\n",
    "Y"
   ]
  },
  {
   "cell_type": "code",
   "execution_count": 29,
   "id": "417c5afa",
   "metadata": {},
   "outputs": [
    {
     "name": "stdout",
     "output_type": "stream",
     "text": [
      "[[    1     4     9    16    25    36    49    64    81   100]\n",
      " [  121   144   169   196   225   256   289   324   361   400]\n",
      " [  441   484   529   576   625   676   729   784   841   900]\n",
      " [  961  1024  1089  1156  1225  1296  1369  1444  1521  1600]\n",
      " [ 1681  1764  1849  1936  2025  2116  2209  2304  2401  2500]\n",
      " [ 2601  2704  2809  2916  3025  3136  3249  3364  3481  3600]\n",
      " [ 3721  3844  3969  4096  4225  4356  4489  4624  4761  4900]\n",
      " [ 5041  5184  5329  5476  5625  5776  5929  6084  6241  6400]\n",
      " [ 6561  6724  6889  7056  7225  7396  7569  7744  7921  8100]\n",
      " [ 8281  8464  8649  8836  9025  9216  9409  9604  9801 10000]]\n"
     ]
    }
   ],
   "source": [
    "#Output of Y so it is more pleasant to look at\n",
    "print(Y)"
   ]
  },
  {
   "cell_type": "code",
   "execution_count": 30,
   "id": "a102e4ec",
   "metadata": {},
   "outputs": [
    {
     "data": {
      "text/plain": [
       "array([   9,   36,   81,  144,  225,  324,  441,  576,  729,  900, 1089,\n",
       "       1296, 1521, 1764, 2025, 2304, 2601, 2916, 3249, 3600, 3969, 4356,\n",
       "       4761, 5184, 5625, 6084, 6561, 7056, 7569, 8100, 8649, 9216, 9801])"
      ]
     },
     "execution_count": 30,
     "metadata": {},
     "output_type": "execute_result"
    }
   ],
   "source": [
    "#Elements divisible by 3\n",
    "div_by_3 = Y[Y % 3 == 0]\n",
    "div_by_3"
   ]
  },
  {
   "cell_type": "code",
   "execution_count": 32,
   "id": "034eabb8",
   "metadata": {},
   "outputs": [
    {
     "name": "stdout",
     "output_type": "stream",
     "text": [
      "[   9   36   81  144  225  324  441  576  729  900 1089 1296 1521 1764\n",
      " 2025 2304 2601 2916 3249 3600 3969 4356 4761 5184 5625 6084 6561 7056\n",
      " 7569 8100 8649 9216 9801]\n"
     ]
    }
   ],
   "source": [
    "#Cleaner output\n",
    "print(div_by_3)"
   ]
  },
  {
   "cell_type": "code",
   "execution_count": 35,
   "id": "a0dc74da",
   "metadata": {},
   "outputs": [],
   "source": [
    "#Saving of file\n",
    "np.save(\"div_by_3.npy\",div_by_3)"
   ]
  },
  {
   "cell_type": "code",
   "execution_count": null,
   "id": "e1592f2c",
   "metadata": {},
   "outputs": [],
   "source": []
  }
 ],
 "metadata": {
  "kernelspec": {
   "display_name": "Python 3 (ipykernel)",
   "language": "python",
   "name": "python3"
  },
  "language_info": {
   "codemirror_mode": {
    "name": "ipython",
    "version": 3
   },
   "file_extension": ".py",
   "mimetype": "text/x-python",
   "name": "python",
   "nbconvert_exporter": "python",
   "pygments_lexer": "ipython3",
   "version": "3.11.4"
  }
 },
 "nbformat": 4,
 "nbformat_minor": 5
}
